{
 "cells": [
  {
   "cell_type": "code",
   "execution_count": 1,
   "id": "51fbadd0",
   "metadata": {},
   "outputs": [],
   "source": [
    "import pandas as pd\n",
    "import numpy as np\n",
    "import matplotlib.pyplot as plt\n",
    "from sklearn.cluster import KMeans\n",
    "from sklearn.metrics import silhouette_samples, silhouette_score"
   ]
  },
  {
   "cell_type": "code",
   "execution_count": 2,
   "id": "2859cb2b",
   "metadata": {},
   "outputs": [],
   "source": [
    "import warnings\n",
    "warnings.simplefilter(action='ignore', category=FutureWarning)\n",
    "warnings.filterwarnings('ignore')"
   ]
  },
  {
   "cell_type": "code",
   "execution_count": 3,
   "id": "355f1bcb",
   "metadata": {},
   "outputs": [],
   "source": [
    "df = pd.read_csv(r'D:\\College\\Year 3 - Term 2\\Data Mining\\Assignment 2\\2023-01-city-of-london-street.csv')"
   ]
  },
  {
   "cell_type": "code",
   "execution_count": 64,
   "id": "c1fdf623",
   "metadata": {},
   "outputs": [
    {
     "data": {
      "text/html": [
       "<div>\n",
       "<style scoped>\n",
       "    .dataframe tbody tr th:only-of-type {\n",
       "        vertical-align: middle;\n",
       "    }\n",
       "\n",
       "    .dataframe tbody tr th {\n",
       "        vertical-align: top;\n",
       "    }\n",
       "\n",
       "    .dataframe thead th {\n",
       "        text-align: right;\n",
       "    }\n",
       "</style>\n",
       "<table border=\"1\" class=\"dataframe\">\n",
       "  <thead>\n",
       "    <tr style=\"text-align: right;\">\n",
       "      <th></th>\n",
       "      <th>Crime ID</th>\n",
       "      <th>Month</th>\n",
       "      <th>Reported by</th>\n",
       "      <th>Falls within</th>\n",
       "      <th>Longitude</th>\n",
       "      <th>Latitude</th>\n",
       "      <th>Location</th>\n",
       "      <th>LSOA code</th>\n",
       "      <th>LSOA name</th>\n",
       "      <th>Crime type</th>\n",
       "      <th>Last outcome category</th>\n",
       "      <th>Context</th>\n",
       "    </tr>\n",
       "  </thead>\n",
       "  <tbody>\n",
       "    <tr>\n",
       "      <th>0</th>\n",
       "      <td>4a14d4745da0a2219ecf913fdc28a0c84ae8408954cac6...</td>\n",
       "      <td>2023-01</td>\n",
       "      <td>City of London Police</td>\n",
       "      <td>City of London Police</td>\n",
       "      <td>-0.106220</td>\n",
       "      <td>51.518275</td>\n",
       "      <td>On or near B500</td>\n",
       "      <td>E01000916</td>\n",
       "      <td>Camden 027B</td>\n",
       "      <td>Other theft</td>\n",
       "      <td>Under investigation</td>\n",
       "      <td>NaN</td>\n",
       "    </tr>\n",
       "    <tr>\n",
       "      <th>1</th>\n",
       "      <td>e6e32581c99c5b0f46e5a4d6343e213df349d7069e847d...</td>\n",
       "      <td>2023-01</td>\n",
       "      <td>City of London Police</td>\n",
       "      <td>City of London Police</td>\n",
       "      <td>-0.107010</td>\n",
       "      <td>51.521480</td>\n",
       "      <td>On or near Saffron Street</td>\n",
       "      <td>E01000916</td>\n",
       "      <td>Camden 027B</td>\n",
       "      <td>Other crime</td>\n",
       "      <td>Under investigation</td>\n",
       "      <td>NaN</td>\n",
       "    </tr>\n",
       "    <tr>\n",
       "      <th>2</th>\n",
       "      <td>7b7cb8e7debe8b0ec1637e7cb1dad832cea4eba16c5f52...</td>\n",
       "      <td>2023-01</td>\n",
       "      <td>City of London Police</td>\n",
       "      <td>City of London Police</td>\n",
       "      <td>-0.110350</td>\n",
       "      <td>51.518090</td>\n",
       "      <td>On or near Holborn</td>\n",
       "      <td>E01000917</td>\n",
       "      <td>Camden 027C</td>\n",
       "      <td>Theft from the person</td>\n",
       "      <td>Investigation complete; no suspect identified</td>\n",
       "      <td>NaN</td>\n",
       "    </tr>\n",
       "    <tr>\n",
       "      <th>3</th>\n",
       "      <td>f7fc44e1e76332f0f575b788522329e6f3ce566fd7472d...</td>\n",
       "      <td>2023-01</td>\n",
       "      <td>City of London Police</td>\n",
       "      <td>City of London Police</td>\n",
       "      <td>-0.107682</td>\n",
       "      <td>51.517786</td>\n",
       "      <td>On or near B521</td>\n",
       "      <td>E01000917</td>\n",
       "      <td>Camden 027C</td>\n",
       "      <td>Other crime</td>\n",
       "      <td>Under investigation</td>\n",
       "      <td>NaN</td>\n",
       "    </tr>\n",
       "    <tr>\n",
       "      <th>4</th>\n",
       "      <td>8083dafd1770af1afca2320c13cbae2420bd2877d9ef29...</td>\n",
       "      <td>2023-01</td>\n",
       "      <td>City of London Police</td>\n",
       "      <td>City of London Police</td>\n",
       "      <td>-0.111596</td>\n",
       "      <td>51.518281</td>\n",
       "      <td>On or near Chancery Lane</td>\n",
       "      <td>E01000914</td>\n",
       "      <td>Camden 028B</td>\n",
       "      <td>Other theft</td>\n",
       "      <td>Under investigation</td>\n",
       "      <td>NaN</td>\n",
       "    </tr>\n",
       "  </tbody>\n",
       "</table>\n",
       "</div>"
      ],
      "text/plain": [
       "                                            Crime ID    Month  \\\n",
       "0  4a14d4745da0a2219ecf913fdc28a0c84ae8408954cac6...  2023-01   \n",
       "1  e6e32581c99c5b0f46e5a4d6343e213df349d7069e847d...  2023-01   \n",
       "2  7b7cb8e7debe8b0ec1637e7cb1dad832cea4eba16c5f52...  2023-01   \n",
       "3  f7fc44e1e76332f0f575b788522329e6f3ce566fd7472d...  2023-01   \n",
       "4  8083dafd1770af1afca2320c13cbae2420bd2877d9ef29...  2023-01   \n",
       "\n",
       "             Reported by           Falls within  Longitude   Latitude  \\\n",
       "0  City of London Police  City of London Police  -0.106220  51.518275   \n",
       "1  City of London Police  City of London Police  -0.107010  51.521480   \n",
       "2  City of London Police  City of London Police  -0.110350  51.518090   \n",
       "3  City of London Police  City of London Police  -0.107682  51.517786   \n",
       "4  City of London Police  City of London Police  -0.111596  51.518281   \n",
       "\n",
       "                    Location  LSOA code    LSOA name             Crime type  \\\n",
       "0            On or near B500  E01000916  Camden 027B            Other theft   \n",
       "1  On or near Saffron Street  E01000916  Camden 027B            Other crime   \n",
       "2         On or near Holborn  E01000917  Camden 027C  Theft from the person   \n",
       "3            On or near B521  E01000917  Camden 027C            Other crime   \n",
       "4   On or near Chancery Lane  E01000914  Camden 028B            Other theft   \n",
       "\n",
       "                           Last outcome category  Context  \n",
       "0                            Under investigation      NaN  \n",
       "1                            Under investigation      NaN  \n",
       "2  Investigation complete; no suspect identified      NaN  \n",
       "3                            Under investigation      NaN  \n",
       "4                            Under investigation      NaN  "
      ]
     },
     "execution_count": 64,
     "metadata": {},
     "output_type": "execute_result"
    }
   ],
   "source": [
    "df.head()"
   ]
  },
  {
   "cell_type": "code",
   "execution_count": 4,
   "id": "a67041b5",
   "metadata": {},
   "outputs": [
    {
     "name": "stdout",
     "output_type": "stream",
     "text": [
      "<class 'pandas.core.frame.DataFrame'>\n",
      "RangeIndex: 719 entries, 0 to 718\n",
      "Data columns (total 12 columns):\n",
      " #   Column                 Non-Null Count  Dtype  \n",
      "---  ------                 --------------  -----  \n",
      " 0   Crime ID               663 non-null    object \n",
      " 1   Month                  719 non-null    object \n",
      " 2   Reported by            719 non-null    object \n",
      " 3   Falls within           719 non-null    object \n",
      " 4   Longitude              674 non-null    float64\n",
      " 5   Latitude               674 non-null    float64\n",
      " 6   Location               719 non-null    object \n",
      " 7   LSOA code              674 non-null    object \n",
      " 8   LSOA name              674 non-null    object \n",
      " 9   Crime type             719 non-null    object \n",
      " 10  Last outcome category  663 non-null    object \n",
      " 11  Context                0 non-null      float64\n",
      "dtypes: float64(3), object(9)\n",
      "memory usage: 67.5+ KB\n"
     ]
    }
   ],
   "source": [
    "df.info()"
   ]
  },
  {
   "cell_type": "code",
   "execution_count": 5,
   "id": "d05cb1d9",
   "metadata": {
    "scrolled": false
   },
   "outputs": [
    {
     "data": {
      "text/plain": [
       "Other theft                     159\n",
       "Violence and sexual offences    110\n",
       "Theft from the person            94\n",
       "Shoplifting                      64\n",
       "Drugs                            63\n",
       "Public order                     60\n",
       "Anti-social behaviour            56\n",
       "Vehicle crime                    25\n",
       "Burglary                         22\n",
       "Criminal damage and arson        22\n",
       "Other crime                      17\n",
       "Robbery                          13\n",
       "Possession of weapons             8\n",
       "Bicycle theft                     6\n",
       "Name: Crime type, dtype: int64"
      ]
     },
     "execution_count": 5,
     "metadata": {},
     "output_type": "execute_result"
    }
   ],
   "source": [
    "df['Crime type'].value_counts()"
   ]
  },
  {
   "cell_type": "markdown",
   "id": "fe69acc2",
   "metadata": {},
   "source": [
    "### The Crime Type we're going to focus on is 'Violence and sexual offences' with count value of 110"
   ]
  },
  {
   "cell_type": "code",
   "execution_count": 6,
   "id": "99a60105",
   "metadata": {},
   "outputs": [],
   "source": [
    "# Taking a copy of what we're going to focus on\n",
    "new_df = df[df['Crime type'] == 'Violence and sexual offences']"
   ]
  },
  {
   "cell_type": "code",
   "execution_count": 7,
   "id": "de55c25b",
   "metadata": {},
   "outputs": [],
   "source": [
    "# dropping any row containing NaN in the 'Longitude' or 'Latitude' columns\n",
    "new_df = new_df.dropna(subset=['Longitude', 'Latitude'])"
   ]
  },
  {
   "cell_type": "code",
   "execution_count": 8,
   "id": "72a8c7e0",
   "metadata": {},
   "outputs": [
    {
     "data": {
      "text/html": [
       "<div>\n",
       "<style scoped>\n",
       "    .dataframe tbody tr th:only-of-type {\n",
       "        vertical-align: middle;\n",
       "    }\n",
       "\n",
       "    .dataframe tbody tr th {\n",
       "        vertical-align: top;\n",
       "    }\n",
       "\n",
       "    .dataframe thead th {\n",
       "        text-align: right;\n",
       "    }\n",
       "</style>\n",
       "<table border=\"1\" class=\"dataframe\">\n",
       "  <thead>\n",
       "    <tr style=\"text-align: right;\">\n",
       "      <th></th>\n",
       "      <th>Crime ID</th>\n",
       "      <th>Month</th>\n",
       "      <th>Reported by</th>\n",
       "      <th>Falls within</th>\n",
       "      <th>Longitude</th>\n",
       "      <th>Latitude</th>\n",
       "      <th>Location</th>\n",
       "      <th>LSOA code</th>\n",
       "      <th>LSOA name</th>\n",
       "      <th>Crime type</th>\n",
       "      <th>Last outcome category</th>\n",
       "      <th>Context</th>\n",
       "    </tr>\n",
       "  </thead>\n",
       "  <tbody>\n",
       "    <tr>\n",
       "      <th>23</th>\n",
       "      <td>3d531c6de0595be429dfc66567bc5b65f1d50040f2e700...</td>\n",
       "      <td>2023-01</td>\n",
       "      <td>City of London Police</td>\n",
       "      <td>City of London Police</td>\n",
       "      <td>-0.097078</td>\n",
       "      <td>51.519045</td>\n",
       "      <td>On or near A1</td>\n",
       "      <td>E01000001</td>\n",
       "      <td>City of London 001A</td>\n",
       "      <td>Violence and sexual offences</td>\n",
       "      <td>Investigation complete; no suspect identified</td>\n",
       "      <td>NaN</td>\n",
       "    </tr>\n",
       "    <tr>\n",
       "      <th>50</th>\n",
       "      <td>dcc965bea74a8553ff1d380d80c8402e8451e6288feed3...</td>\n",
       "      <td>2023-01</td>\n",
       "      <td>City of London Police</td>\n",
       "      <td>City of London Police</td>\n",
       "      <td>-0.091498</td>\n",
       "      <td>51.520483</td>\n",
       "      <td>On or near</td>\n",
       "      <td>E01000002</td>\n",
       "      <td>City of London 001B</td>\n",
       "      <td>Violence and sexual offences</td>\n",
       "      <td>Under investigation</td>\n",
       "      <td>NaN</td>\n",
       "    </tr>\n",
       "    <tr>\n",
       "      <th>51</th>\n",
       "      <td>4b9fdc83095120a04abaa5a74fa3fd9e5062086ebb5377...</td>\n",
       "      <td>2023-01</td>\n",
       "      <td>City of London Police</td>\n",
       "      <td>City of London Police</td>\n",
       "      <td>-0.090105</td>\n",
       "      <td>51.520001</td>\n",
       "      <td>On or near Milton Court</td>\n",
       "      <td>E01000002</td>\n",
       "      <td>City of London 001B</td>\n",
       "      <td>Violence and sexual offences</td>\n",
       "      <td>Under investigation</td>\n",
       "      <td>NaN</td>\n",
       "    </tr>\n",
       "    <tr>\n",
       "      <th>52</th>\n",
       "      <td>362d774996fe58c5ca112c152a3ba2f0185f0998bb3565...</td>\n",
       "      <td>2023-01</td>\n",
       "      <td>City of London Police</td>\n",
       "      <td>City of London Police</td>\n",
       "      <td>-0.092971</td>\n",
       "      <td>51.516271</td>\n",
       "      <td>On or near Aldermanbury</td>\n",
       "      <td>E01000002</td>\n",
       "      <td>City of London 001B</td>\n",
       "      <td>Violence and sexual offences</td>\n",
       "      <td>Investigation complete; no suspect identified</td>\n",
       "      <td>NaN</td>\n",
       "    </tr>\n",
       "    <tr>\n",
       "      <th>53</th>\n",
       "      <td>eb4381219115b6ff0cba75cf8e41b9df93e101f2bdc62a...</td>\n",
       "      <td>2023-01</td>\n",
       "      <td>City of London Police</td>\n",
       "      <td>City of London Police</td>\n",
       "      <td>-0.093271</td>\n",
       "      <td>51.518066</td>\n",
       "      <td>On or near St Alphage Garden</td>\n",
       "      <td>E01000002</td>\n",
       "      <td>City of London 001B</td>\n",
       "      <td>Violence and sexual offences</td>\n",
       "      <td>Unable to prosecute suspect</td>\n",
       "      <td>NaN</td>\n",
       "    </tr>\n",
       "  </tbody>\n",
       "</table>\n",
       "</div>"
      ],
      "text/plain": [
       "                                             Crime ID    Month  \\\n",
       "23  3d531c6de0595be429dfc66567bc5b65f1d50040f2e700...  2023-01   \n",
       "50  dcc965bea74a8553ff1d380d80c8402e8451e6288feed3...  2023-01   \n",
       "51  4b9fdc83095120a04abaa5a74fa3fd9e5062086ebb5377...  2023-01   \n",
       "52  362d774996fe58c5ca112c152a3ba2f0185f0998bb3565...  2023-01   \n",
       "53  eb4381219115b6ff0cba75cf8e41b9df93e101f2bdc62a...  2023-01   \n",
       "\n",
       "              Reported by           Falls within  Longitude   Latitude  \\\n",
       "23  City of London Police  City of London Police  -0.097078  51.519045   \n",
       "50  City of London Police  City of London Police  -0.091498  51.520483   \n",
       "51  City of London Police  City of London Police  -0.090105  51.520001   \n",
       "52  City of London Police  City of London Police  -0.092971  51.516271   \n",
       "53  City of London Police  City of London Police  -0.093271  51.518066   \n",
       "\n",
       "                        Location  LSOA code            LSOA name  \\\n",
       "23                 On or near A1  E01000001  City of London 001A   \n",
       "50                   On or near   E01000002  City of London 001B   \n",
       "51       On or near Milton Court  E01000002  City of London 001B   \n",
       "52       On or near Aldermanbury  E01000002  City of London 001B   \n",
       "53  On or near St Alphage Garden  E01000002  City of London 001B   \n",
       "\n",
       "                      Crime type  \\\n",
       "23  Violence and sexual offences   \n",
       "50  Violence and sexual offences   \n",
       "51  Violence and sexual offences   \n",
       "52  Violence and sexual offences   \n",
       "53  Violence and sexual offences   \n",
       "\n",
       "                            Last outcome category  Context  \n",
       "23  Investigation complete; no suspect identified      NaN  \n",
       "50                            Under investigation      NaN  \n",
       "51                            Under investigation      NaN  \n",
       "52  Investigation complete; no suspect identified      NaN  \n",
       "53                    Unable to prosecute suspect      NaN  "
      ]
     },
     "execution_count": 8,
     "metadata": {},
     "output_type": "execute_result"
    }
   ],
   "source": [
    "new_df.head()"
   ]
  },
  {
   "cell_type": "code",
   "execution_count": 9,
   "id": "65716c67",
   "metadata": {},
   "outputs": [
    {
     "name": "stdout",
     "output_type": "stream",
     "text": [
      "<class 'pandas.core.frame.DataFrame'>\n",
      "Int64Index: 99 entries, 23 to 668\n",
      "Data columns (total 12 columns):\n",
      " #   Column                 Non-Null Count  Dtype  \n",
      "---  ------                 --------------  -----  \n",
      " 0   Crime ID               99 non-null     object \n",
      " 1   Month                  99 non-null     object \n",
      " 2   Reported by            99 non-null     object \n",
      " 3   Falls within           99 non-null     object \n",
      " 4   Longitude              99 non-null     float64\n",
      " 5   Latitude               99 non-null     float64\n",
      " 6   Location               99 non-null     object \n",
      " 7   LSOA code              99 non-null     object \n",
      " 8   LSOA name              99 non-null     object \n",
      " 9   Crime type             99 non-null     object \n",
      " 10  Last outcome category  99 non-null     object \n",
      " 11  Context                0 non-null      float64\n",
      "dtypes: float64(3), object(9)\n",
      "memory usage: 10.1+ KB\n"
     ]
    }
   ],
   "source": [
    "new_df.info()"
   ]
  },
  {
   "cell_type": "markdown",
   "id": "87f4422f",
   "metadata": {},
   "source": [
    "# 1. K-Means"
   ]
  },
  {
   "cell_type": "markdown",
   "id": "df4d7e95",
   "metadata": {},
   "source": [
    "## Using the Elbow Method to determine a suitable value for K:"
   ]
  },
  {
   "cell_type": "code",
   "execution_count": 188,
   "id": "c7314b11",
   "metadata": {},
   "outputs": [
    {
     "data": {
      "image/png": "[encoded data removed]",
      "text/plain": [
       "<Figure size 432x288 with 1 Axes>"
      ]
     },
     "metadata": {
      "needs_background": "light"
     },
     "output_type": "display_data"
    }
   ],
   "source": [
    "x = new_df['Longitude']\n",
    "y = new_df['Latitude']\n",
    "data = list(zip(x, y))\n",
    "inertias = []\n",
    "\n",
    "for i in range(1,8):\n",
    "    kmeans = KMeans(n_clusters=i)\n",
    "    kmeans.fit(data)\n",
    "    inertias.append(kmeans.inertia_)\n",
    "\n",
    "plt.plot(range(1,8), inertias, marker='o')\n",
    "plt.title('Elbow method')\n",
    "plt.xlabel('Number of clusters')\n",
    "plt.ylabel('Inertia')\n",
    "plt.show();"
   ]
  },
  {
   "cell_type": "markdown",
   "id": "46e0ce9d",
   "metadata": {},
   "source": [
    "### So based on that, choosing K = 2 or 3 is a suitable clustering number"
   ]
  },
  {
   "cell_type": "markdown",
   "id": "7b983839",
   "metadata": {},
   "source": [
    "## Applying K-means clustering technique:"
   ]
  },
  {
   "cell_type": "code",
   "execution_count": 189,
   "id": "8bccfba6",
   "metadata": {},
   "outputs": [
    {
     "data": {
      "text/html": [
       "<style>#sk-container-id-7 {color: black;background-color: white;}#sk-container-id-7 pre{padding: 0;}#sk-container-id-7 div.sk-toggleable {background-color: white;}#sk-container-id-7 label.sk-toggleable__label {cursor: pointer;display: block;width: 100%;margin-bottom: 0;padding: 0.3em;box-sizing: border-box;text-align: center;}#sk-container-id-7 label.sk-toggleable__label-arrow:before {content: \"▸\";float: left;margin-right: 0.25em;color: #696969;}#sk-container-id-7 label.sk-toggleable__label-arrow:hover:before {color: black;}#sk-container-id-7 div.sk-estimator:hover label.sk-toggleable__label-arrow:before {color: black;}#sk-container-id-7 div.sk-toggleable__content {max-height: 0;max-width: 0;overflow: hidden;text-align: left;background-color: #f0f8ff;}#sk-container-id-7 div.sk-toggleable__content pre {margin: 0.2em;color: black;border-radius: 0.25em;background-color: #f0f8ff;}#sk-container-id-7 input.sk-toggleable__control:checked~div.sk-toggleable__content {max-height: 200px;max-width: 100%;overflow: auto;}#sk-container-id-7 input.sk-toggleable__control:checked~label.sk-toggleable__label-arrow:before {content: \"▾\";}#sk-container-id-7 div.sk-estimator input.sk-toggleable__control:checked~label.sk-toggleable__label {background-color: #d4ebff;}#sk-container-id-7 div.sk-label input.sk-toggleable__control:checked~label.sk-toggleable__label {background-color: #d4ebff;}#sk-container-id-7 input.sk-hidden--visually {border: 0;clip: rect(1px 1px 1px 1px);clip: rect(1px, 1px, 1px, 1px);height: 1px;margin: -1px;overflow: hidden;padding: 0;position: absolute;width: 1px;}#sk-container-id-7 div.sk-estimator {font-family: monospace;background-color: #f0f8ff;border: 1px dotted black;border-radius: 0.25em;box-sizing: border-box;margin-bottom: 0.5em;}#sk-container-id-7 div.sk-estimator:hover {background-color: #d4ebff;}#sk-container-id-7 div.sk-parallel-item::after {content: \"\";width: 100%;border-bottom: 1px solid gray;flex-grow: 1;}#sk-container-id-7 div.sk-label:hover label.sk-toggleable__label {background-color: #d4ebff;}#sk-container-id-7 div.sk-serial::before {content: \"\";position: absolute;border-left: 1px solid gray;box-sizing: border-box;top: 0;bottom: 0;left: 50%;z-index: 0;}#sk-container-id-7 div.sk-serial {display: flex;flex-direction: column;align-items: center;background-color: white;padding-right: 0.2em;padding-left: 0.2em;position: relative;}#sk-container-id-7 div.sk-item {position: relative;z-index: 1;}#sk-container-id-7 div.sk-parallel {display: flex;align-items: stretch;justify-content: center;background-color: white;position: relative;}#sk-container-id-7 div.sk-item::before, #sk-container-id-7 div.sk-parallel-item::before {content: \"\";position: absolute;border-left: 1px solid gray;box-sizing: border-box;top: 0;bottom: 0;left: 50%;z-index: -1;}#sk-container-id-7 div.sk-parallel-item {display: flex;flex-direction: column;z-index: 1;position: relative;background-color: white;}#sk-container-id-7 div.sk-parallel-item:first-child::after {align-self: flex-end;width: 50%;}#sk-container-id-7 div.sk-parallel-item:last-child::after {align-self: flex-start;width: 50%;}#sk-container-id-7 div.sk-parallel-item:only-child::after {width: 0;}#sk-container-id-7 div.sk-dashed-wrapped {border: 1px dashed gray;margin: 0 0.4em 0.5em 0.4em;box-sizing: border-box;padding-bottom: 0.4em;background-color: white;}#sk-container-id-7 div.sk-label label {font-family: monospace;font-weight: bold;display: inline-block;line-height: 1.2em;}#sk-container-id-7 div.sk-label-container {text-align: center;}#sk-container-id-7 div.sk-container {/* jupyter's `normalize.less` sets `[hidden] { display: none; }` but bootstrap.min.css set `[hidden] { display: none !important; }` so we also need the `!important` here to be able to override the default hidden behavior on the sphinx rendered scikit-learn.org. See: https://github.com/scikit-learn/scikit-learn/issues/21755 */display: inline-block !important;position: relative;}#sk-container-id-7 div.sk-text-repr-fallback {display: none;}</style><div id=\"sk-container-id-7\" class=\"sk-top-container\"><div class=\"sk-text-repr-fallback\"><pre>KMeans(n_clusters=3)</pre><b>In a Jupyter environment, please rerun this cell to show the HTML representation or trust the notebook. <br />On GitHub, the HTML representation is unable to render, please try loading this page with nbviewer.org.</b></div><div class=\"sk-container\" hidden><div class=\"sk-item\"><div class=\"sk-estimator sk-toggleable\"><input class=\"sk-toggleable__control sk-hidden--visually\" id=\"sk-estimator-id-7\" type=\"checkbox\" checked><label for=\"sk-estimator-id-7\" class=\"sk-toggleable__label sk-toggleable__label-arrow\">KMeans</label><div class=\"sk-toggleable__content\"><pre>KMeans(n_clusters=3)</pre></div></div></div></div></div>"
      ],
      "text/plain": [
       "KMeans(n_clusters=3)"
      ]
     },
     "execution_count": 189,
     "metadata": {},
     "output_type": "execute_result"
    }
   ],
   "source": [
    "kmeans = KMeans(n_clusters=3)\n",
    "kmeans.fit(data)"
   ]
  },
  {
   "cell_type": "markdown",
   "id": "0dcfacbb",
   "metadata": {},
   "source": [
    "## Visualizing clusters resulted from K-means:"
   ]
  },
  {
   "cell_type": "code",
   "execution_count": 190,
   "id": "f2adeb5b",
   "metadata": {},
   "outputs": [
    {
     "data": {
      "image/png": "[encoded data removed]",
      "text/plain": [
       "<Figure size 720x576 with 1 Axes>"
      ]
     },
     "metadata": {
      "needs_background": "light"
     },
     "output_type": "display_data"
    }
   ],
   "source": [
    "plt.figure(figsize=(10, 8)) \n",
    "plt.scatter(x, y, c=kmeans.labels_)\n",
    "plt.show()"
   ]
  },
  {
   "cell_type": "markdown",
   "id": "84081940",
   "metadata": {},
   "source": [
    "## Computing the silhouette measure for K-mean clusters:"
   ]
  },
  {
   "cell_type": "code",
   "execution_count": 191,
   "id": "b75ba280",
   "metadata": {},
   "outputs": [
    {
     "name": "stdout",
     "output_type": "stream",
     "text": [
      "For K = 3, the Silhouetter Score is: 0.496\n"
     ]
    }
   ],
   "source": [
    "score = silhouette_score(data, kmeans.labels_, metric='euclidean')\n",
    "print('For K = 3, the Silhouetter Score is: %.3f' % score)"
   ]
  },
  {
   "cell_type": "markdown",
   "id": "b363c379",
   "metadata": {},
   "source": [
    "# 2. DB-Scan"
   ]
  },
  {
   "cell_type": "markdown",
   "id": "6b77ac38",
   "metadata": {},
   "source": [
    "## Applying DB-Scan:"
   ]
  },
  {
   "cell_type": "code",
   "execution_count": 59,
   "id": "328e34f6",
   "metadata": {},
   "outputs": [
    {
     "name": "stdout",
     "output_type": "stream",
     "text": [
      "Number of clusters found: 7\n"
     ]
    }
   ],
   "source": [
    "x = new_df['Longitude']\n",
    "y = new_df['Latitude']\n",
    "data = list(zip(x, y))\n",
    "\n",
    "# Create a DBSCAN object with specified parameters\n",
    "from sklearn.cluster import DBSCAN\n",
    "dbscan = DBSCAN(eps=0.0011152515, min_samples=4, metric='euclidean')\n",
    "\n",
    "# Fit the DBSCAN model to the data\n",
    "dbscan.fit(data)\n",
    "\n",
    "# Retrieve the cluster labels for each data point\n",
    "labels = dbscan.labels_\n",
    "num_clusters = len(set(labels)) - (1 if -1 in labels else 0)\n",
    "\n",
    "# print the number of clusters\n",
    "print(f\"Number of clusters found: {num_clusters}\")"
   ]
  },
  {
   "cell_type": "markdown",
   "id": "3da88139",
   "metadata": {},
   "source": [
    "## Visualizing clusters resulted from DB-Scan:"
   ]
  },
  {
   "cell_type": "code",
   "execution_count": 61,
   "id": "5cbec876",
   "metadata": {},
   "outputs": [
    {
     "data": {
      "image/png": "[encoded data removed]",
      "text/plain": [
       "<Figure size 720x576 with 1 Axes>"
      ]
     },
     "metadata": {
      "needs_background": "light"
     },
     "output_type": "display_data"
    }
   ],
   "source": [
    "plt.figure(figsize=(10, 8)) \n",
    "plt.scatter(x, y, c=dbscan.labels_)\n",
    "plt.show()"
   ]
  },
  {
   "cell_type": "markdown",
   "id": "02719115",
   "metadata": {},
   "source": [
    "## Computing the silhouette measure for DB-Scan clusters:"
   ]
  },
  {
   "cell_type": "code",
   "execution_count": 62,
   "id": "e8414fd8",
   "metadata": {},
   "outputs": [
    {
     "name": "stdout",
     "output_type": "stream",
     "text": [
      "For K = 3, the Silhouetter Score for db scan is: -0.065\n"
     ]
    }
   ],
   "source": [
    "silhouette_score = silhouette_score(data, labels, metric='euclidean')\n",
    "print('For K = 3, the Silhouetter Score for db scan is: %.3f' % silhouette_score)"
   ]
  },
  {
   "cell_type": "markdown",
   "id": "4a6c4fb7",
   "metadata": {},
   "source": [
    "# Conclusion:\n",
    "## As we can see our data didn't work with the DBscan method to make clusters, but with K-means it worked just fine. \n",
    "## DBscan is a density-based clustering algorithm that groups together data points that are close to each other in terms of distance and have a high density, that explains why it did not work with the chosen data"
   ]
  },
  {
   "cell_type": "markdown",
   "id": "ad5c1098",
   "metadata": {},
   "source": [
    "# Working on another column to see if the DBscan would work on it:"
   ]
  },
  {
   "cell_type": "code",
   "execution_count": 63,
   "id": "cbc39dae",
   "metadata": {},
   "outputs": [],
   "source": [
    "DrugsDF = df[df['Crime type'] == 'Drugs']"
   ]
  },
  {
   "cell_type": "code",
   "execution_count": 64,
   "id": "d47a9857",
   "metadata": {},
   "outputs": [],
   "source": [
    "DrugsDF = DrugsDF.dropna(subset=['Longitude', 'Latitude'])"
   ]
  },
  {
   "cell_type": "code",
   "execution_count": 65,
   "id": "3b16e7aa",
   "metadata": {},
   "outputs": [
    {
     "data": {
      "text/html": [
       "<div>\n",
       "<style scoped>\n",
       "    .dataframe tbody tr th:only-of-type {\n",
       "        vertical-align: middle;\n",
       "    }\n",
       "\n",
       "    .dataframe tbody tr th {\n",
       "        vertical-align: top;\n",
       "    }\n",
       "\n",
       "    .dataframe thead th {\n",
       "        text-align: right;\n",
       "    }\n",
       "</style>\n",
       "<table border=\"1\" class=\"dataframe\">\n",
       "  <thead>\n",
       "    <tr style=\"text-align: right;\">\n",
       "      <th></th>\n",
       "      <th>Crime ID</th>\n",
       "      <th>Month</th>\n",
       "      <th>Reported by</th>\n",
       "      <th>Falls within</th>\n",
       "      <th>Longitude</th>\n",
       "      <th>Latitude</th>\n",
       "      <th>Location</th>\n",
       "      <th>LSOA code</th>\n",
       "      <th>LSOA name</th>\n",
       "      <th>Crime type</th>\n",
       "      <th>Last outcome category</th>\n",
       "      <th>Context</th>\n",
       "    </tr>\n",
       "  </thead>\n",
       "  <tbody>\n",
       "    <tr>\n",
       "      <th>12</th>\n",
       "      <td>a4c9d826adfcd34cb36bbe582e3d47de13c2ceb39c2643...</td>\n",
       "      <td>2023-01</td>\n",
       "      <td>City of London Police</td>\n",
       "      <td>City of London Police</td>\n",
       "      <td>-0.096718</td>\n",
       "      <td>51.515511</td>\n",
       "      <td>On or near</td>\n",
       "      <td>E01000001</td>\n",
       "      <td>City of London 001A</td>\n",
       "      <td>Drugs</td>\n",
       "      <td>Under investigation</td>\n",
       "      <td>NaN</td>\n",
       "    </tr>\n",
       "    <tr>\n",
       "      <th>13</th>\n",
       "      <td>bb44a3100c83a5ac6a4dd3c272f3e0ab910087a04c4ac3...</td>\n",
       "      <td>2023-01</td>\n",
       "      <td>City of London Police</td>\n",
       "      <td>City of London Police</td>\n",
       "      <td>-0.096718</td>\n",
       "      <td>51.515511</td>\n",
       "      <td>On or near</td>\n",
       "      <td>E01000001</td>\n",
       "      <td>City of London 001A</td>\n",
       "      <td>Drugs</td>\n",
       "      <td>Under investigation</td>\n",
       "      <td>NaN</td>\n",
       "    </tr>\n",
       "    <tr>\n",
       "      <th>28</th>\n",
       "      <td>5dbd5f5cfce862a5cdddca74e1a4f35ceb6d988cfbb96d...</td>\n",
       "      <td>2023-01</td>\n",
       "      <td>City of London Police</td>\n",
       "      <td>City of London Police</td>\n",
       "      <td>-0.091498</td>\n",
       "      <td>51.520483</td>\n",
       "      <td>On or near</td>\n",
       "      <td>E01000002</td>\n",
       "      <td>City of London 001B</td>\n",
       "      <td>Drugs</td>\n",
       "      <td>Under investigation</td>\n",
       "      <td>NaN</td>\n",
       "    </tr>\n",
       "    <tr>\n",
       "      <th>29</th>\n",
       "      <td>d29ee417d40f3efdb2b664347bd0668cb047b1843127d7...</td>\n",
       "      <td>2023-01</td>\n",
       "      <td>City of London Police</td>\n",
       "      <td>City of London Police</td>\n",
       "      <td>-0.091498</td>\n",
       "      <td>51.520483</td>\n",
       "      <td>On or near</td>\n",
       "      <td>E01000002</td>\n",
       "      <td>City of London 001B</td>\n",
       "      <td>Drugs</td>\n",
       "      <td>Under investigation</td>\n",
       "      <td>NaN</td>\n",
       "    </tr>\n",
       "    <tr>\n",
       "      <th>30</th>\n",
       "      <td>923d64945a65b9f38cf3e6c6127693c8d225e299869d27...</td>\n",
       "      <td>2023-01</td>\n",
       "      <td>City of London Police</td>\n",
       "      <td>City of London Police</td>\n",
       "      <td>-0.090105</td>\n",
       "      <td>51.520001</td>\n",
       "      <td>On or near Milton Court</td>\n",
       "      <td>E01000002</td>\n",
       "      <td>City of London 001B</td>\n",
       "      <td>Drugs</td>\n",
       "      <td>Under investigation</td>\n",
       "      <td>NaN</td>\n",
       "    </tr>\n",
       "  </tbody>\n",
       "</table>\n",
       "</div>"
      ],
      "text/plain": [
       "                                             Crime ID    Month  \\\n",
       "12  a4c9d826adfcd34cb36bbe582e3d47de13c2ceb39c2643...  2023-01   \n",
       "13  bb44a3100c83a5ac6a4dd3c272f3e0ab910087a04c4ac3...  2023-01   \n",
       "28  5dbd5f5cfce862a5cdddca74e1a4f35ceb6d988cfbb96d...  2023-01   \n",
       "29  d29ee417d40f3efdb2b664347bd0668cb047b1843127d7...  2023-01   \n",
       "30  923d64945a65b9f38cf3e6c6127693c8d225e299869d27...  2023-01   \n",
       "\n",
       "              Reported by           Falls within  Longitude   Latitude  \\\n",
       "12  City of London Police  City of London Police  -0.096718  51.515511   \n",
       "13  City of London Police  City of London Police  -0.096718  51.515511   \n",
       "28  City of London Police  City of London Police  -0.091498  51.520483   \n",
       "29  City of London Police  City of London Police  -0.091498  51.520483   \n",
       "30  City of London Police  City of London Police  -0.090105  51.520001   \n",
       "\n",
       "                   Location  LSOA code            LSOA name Crime type  \\\n",
       "12              On or near   E01000001  City of London 001A      Drugs   \n",
       "13              On or near   E01000001  City of London 001A      Drugs   \n",
       "28              On or near   E01000002  City of London 001B      Drugs   \n",
       "29              On or near   E01000002  City of London 001B      Drugs   \n",
       "30  On or near Milton Court  E01000002  City of London 001B      Drugs   \n",
       "\n",
       "   Last outcome category  Context  \n",
       "12   Under investigation      NaN  \n",
       "13   Under investigation      NaN  \n",
       "28   Under investigation      NaN  \n",
       "29   Under investigation      NaN  \n",
       "30   Under investigation      NaN  "
      ]
     },
     "execution_count": 65,
     "metadata": {},
     "output_type": "execute_result"
    }
   ],
   "source": [
    "DrugsDF.head()"
   ]
  },
  {
   "cell_type": "code",
   "execution_count": 67,
   "id": "7851bec4",
   "metadata": {},
   "outputs": [
    {
     "name": "stdout",
     "output_type": "stream",
     "text": [
      "Number of clusters: 10\n",
      "The Silhouette Score for DBSCAN is: 0.106\n"
     ]
    }
   ],
   "source": [
    "from sklearn.metrics import silhouette_samples, silhouette_score\n",
    "# Extract the longitude and latitude columns from the DrugsDF DataFrame\n",
    "x2 = DrugsDF['Longitude']\n",
    "y2 = DrugsDF['Latitude']\n",
    "DrugsData = list(zip(x2, y2))\n",
    "\n",
    "# Compute DBSCAN\n",
    "db2 = DBSCAN(eps=0.0002, min_samples=2).fit(DrugsData)\n",
    "\n",
    "# Print the number of clusters\n",
    "n_clusters_ = len(set(db2.labels_)) - (1 if -1 in db2.labels_ else 0)\n",
    "print('Number of clusters: {}'.format(n_clusters_))\n",
    "\n",
    "# Compute the Silhouette Coefficient for each point\n",
    "labels = db2.labels_\n",
    "silhouette_coef = silhouette_score(DrugsData, labels, metric='euclidean')\n",
    "\n",
    "# Print the Silhouette Coefficient score\n",
    "print('The Silhouette Score for DBSCAN is: %.3f' % silhouette_coef)"
   ]
  },
  {
   "cell_type": "code",
   "execution_count": 69,
   "id": "b86771ec",
   "metadata": {},
   "outputs": [
    {
     "data": {
      "image/png": "[encoded data removed]",
      "text/plain": [
       "<Figure size 720x576 with 1 Axes>"
      ]
     },
     "metadata": {
      "needs_background": "light"
     },
     "output_type": "display_data"
    }
   ],
   "source": [
    "plt.figure(figsize=(10, 8)) \n",
    "plt.scatter(x2, y2,c=db2.labels_)\n",
    "plt.title('DBSCAN Drugs Clustering')\n",
    "plt.xlabel('Longitude')\n",
    "plt.ylabel('Latitude')\n",
    "plt.show()"
   ]
  },
  {
   "cell_type": "code",
   "execution_count": null,
   "id": "46e25142",
   "metadata": {},
   "outputs": [],
   "source": []
  }
 ],
 "metadata": {
  "kernelspec": {
   "display_name": "Python 3 (ipykernel)",
   "language": "python",
   "name": "python3"
  },
  "language_info": {
   "codemirror_mode": {
    "name": "ipython",
    "version": 3
   },
   "file_extension": ".py",
   "mimetype": "text/x-python",
   "name": "python",
   "nbconvert_exporter": "python",
   "pygments_lexer": "ipython3",
   "version": "3.9.7"
  }
 },
 "nbformat": 4,
 "nbformat_minor": 5
}
